{
 "cells": [
  {
   "cell_type": "markdown",
   "id": "61633483",
   "metadata": {},
   "source": [
    "### Importing the Libraries"
   ]
  },
  {
   "cell_type": "code",
   "execution_count": 1,
   "id": "125ffa31",
   "metadata": {},
   "outputs": [],
   "source": [
    "import pandas as pd\n",
    "import numpy as np\n",
    "import warnings\n",
    "warnings.filterwarnings('ignore')\n",
    "from sklearn.model_selection import train_test_split\n",
    "from sklearn.linear_model import LinearRegression\n",
    "from sklearn.linear_model import Ridge\n",
    "from sklearn.linear_model import Lasso"
   ]
  },
  {
   "cell_type": "markdown",
   "id": "d3123de2",
   "metadata": {},
   "source": [
    "### Importing the Dataset"
   ]
  },
  {
   "cell_type": "code",
   "execution_count": 2,
   "id": "fc1e93f0",
   "metadata": {},
   "outputs": [],
   "source": [
    "df = pd.read_csv('Data.csv')"
   ]
  },
  {
   "cell_type": "code",
   "execution_count": 3,
   "id": "ca869280",
   "metadata": {},
   "outputs": [
    {
     "name": "stdout",
     "output_type": "stream",
     "text": [
      "<class 'pandas.core.frame.DataFrame'>\n",
      "RangeIndex: 872450 entries, 0 to 872449\n",
      "Data columns (total 22 columns):\n",
      " #   Column                  Non-Null Count   Dtype  \n",
      "---  ------                  --------------   -----  \n",
      " 0   match_id                872450 non-null  int64  \n",
      " 1   season                  872450 non-null  object \n",
      " 2   start_date              872450 non-null  object \n",
      " 3   venue                   872450 non-null  object \n",
      " 4   innings                 872450 non-null  int64  \n",
      " 5   ball                    872450 non-null  float64\n",
      " 6   batting_team            872450 non-null  object \n",
      " 7   bowling_team            872450 non-null  object \n",
      " 8   striker                 872450 non-null  object \n",
      " 9   non_striker             872450 non-null  object \n",
      " 10  bowler                  872450 non-null  object \n",
      " 11  runs_off_bat            872450 non-null  int64  \n",
      " 12  extras                  872450 non-null  int64  \n",
      " 13  wides                   36803 non-null   float64\n",
      " 14  noballs                 4778 non-null    float64\n",
      " 15  byes                    3795 non-null    float64\n",
      " 16  legbyes                 11123 non-null   float64\n",
      " 17  penalty                 14 non-null      float64\n",
      " 18  wicket_type             48306 non-null   object \n",
      " 19  player_dismissed        48306 non-null   object \n",
      " 20  other_wicket_type       2 non-null       object \n",
      " 21  other_player_dismissed  2 non-null       object \n",
      "dtypes: float64(6), int64(4), object(12)\n",
      "memory usage: 146.4+ MB\n"
     ]
    }
   ],
   "source": [
    "df.info()"
   ]
  },
  {
   "cell_type": "markdown",
   "id": "f6651d75",
   "metadata": {},
   "source": [
    "### Feature Engineering"
   ]
  },
  {
   "cell_type": "code",
   "execution_count": 4,
   "id": "4bdc30e8",
   "metadata": {},
   "outputs": [
    {
     "data": {
      "text/plain": [
       "array(['Australia', 'Sri Lanka', 'Hong Kong', 'Ireland', 'Zimbabwe',\n",
       "       'India', 'Bangladesh', 'New Zealand', 'South Africa', 'England',\n",
       "       'West Indies', 'Pakistan', 'Scotland', 'Oman', 'Netherlands',\n",
       "       'United Arab Emirates', 'Papua New Guinea', 'ICC World XI',\n",
       "       'Thailand', 'Uganda', 'Malaysia', 'Botswana', 'Lesotho', 'Malawi',\n",
       "       'Namibia', 'Sierra Leone', 'Mozambique', 'Nepal', 'China',\n",
       "       'Kuwait', 'Philippines', 'Vanuatu', 'United States of America',\n",
       "       'Germany', 'Italy', 'Kenya', 'Nigeria', 'Tanzania', 'Rwanda',\n",
       "       'Japan', 'Indonesia', 'Fiji', 'Samoa', 'Canada', 'Ghana',\n",
       "       'Guernsey', 'Denmark', 'Norway', 'Jersey', 'Maldives', 'Mali',\n",
       "       'Singapore', 'Qatar', 'South Korea', 'Bermuda', 'Cayman Islands',\n",
       "       'Portugal', 'Spain', 'Gibraltar', 'Bhutan', 'Saudi Arabia',\n",
       "       'Bahrain', 'Iran', 'Austria', 'Belgium', 'Luxembourg',\n",
       "       'Czech Republic', 'Isle of Man', 'Bulgaria', 'Romania', 'Greece',\n",
       "       'Serbia', 'Malta', 'France', 'Sweden', 'Finland', 'Eswatini',\n",
       "       'Cameroon', 'Hungary', 'Estonia', 'Cyprus', 'Switzerland',\n",
       "       'Argentina', 'Brazil', 'Seychelles', 'Swaziland', 'Belize',\n",
       "       'Bahamas', 'Panama', 'Barbados', 'Israel', 'Turkey', 'Croatia',\n",
       "       'Slovenia', 'Cook Islands', 'St Helena', 'Gambia', 'Cambodia',\n",
       "       'Myanmar', 'Mongolia', 'Chile', 'Mexico', 'Costa Rica',\n",
       "       'Ivory Coast'], dtype=object)"
      ]
     },
     "execution_count": 4,
     "metadata": {},
     "output_type": "execute_result"
    }
   ],
   "source": [
    "df['batting_team'].unique()"
   ]
  },
  {
   "cell_type": "code",
   "execution_count": 5,
   "id": "2532106d",
   "metadata": {},
   "outputs": [],
   "source": [
    "consistent_teams = ['Australia', 'Bangladesh', 'India', 'New Zealand', 'South Africa', 'West Indies', 'England', 'Sri Lanka', 'Pakistan']"
   ]
  },
  {
   "cell_type": "code",
   "execution_count": 6,
   "id": "f4d4df8e",
   "metadata": {},
   "outputs": [],
   "source": [
    "df = df[df['batting_team'].isin(consistent_teams)]"
   ]
  },
  {
   "cell_type": "code",
   "execution_count": 7,
   "id": "6c51d250",
   "metadata": {},
   "outputs": [],
   "source": [
    "df = df[df['bowling_team'].isin(consistent_teams)]"
   ]
  },
  {
   "cell_type": "code",
   "execution_count": 8,
   "id": "ac1b8478",
   "metadata": {},
   "outputs": [],
   "source": [
    "df = df.sort_values(['match_id', 'innings'], ascending= [True, True])"
   ]
  },
  {
   "cell_type": "code",
   "execution_count": 9,
   "id": "1c45894d",
   "metadata": {},
   "outputs": [],
   "source": [
    "df['overs'] = df['ball']"
   ]
  },
  {
   "cell_type": "code",
   "execution_count": 10,
   "id": "e79e3655",
   "metadata": {},
   "outputs": [],
   "source": [
    "df['ball'] = df['ball'].astype(str)"
   ]
  },
  {
   "cell_type": "code",
   "execution_count": 11,
   "id": "66e30340",
   "metadata": {},
   "outputs": [],
   "source": [
    "df['over'] = df['ball'].str[0:-1]"
   ]
  },
  {
   "cell_type": "code",
   "execution_count": 12,
   "id": "010273aa",
   "metadata": {},
   "outputs": [],
   "source": [
    "df['over'] = df['over'].str.replace('.', '')"
   ]
  },
  {
   "cell_type": "code",
   "execution_count": 13,
   "id": "f4d6efa0",
   "metadata": {},
   "outputs": [],
   "source": [
    "df['ball'] = df['ball'].str[-1]"
   ]
  },
  {
   "cell_type": "code",
   "execution_count": 14,
   "id": "65e6346e",
   "metadata": {},
   "outputs": [],
   "source": [
    "df['ball'] = df['ball'].astype(int)"
   ]
  },
  {
   "cell_type": "code",
   "execution_count": 15,
   "id": "93cf5a70",
   "metadata": {},
   "outputs": [],
   "source": [
    "df['over'] = df['over'].astype(int)"
   ]
  },
  {
   "cell_type": "code",
   "execution_count": 16,
   "id": "fb0cd6ea",
   "metadata": {},
   "outputs": [],
   "source": [
    "df['total_runs'] = df['runs_off_bat']+df['extras']"
   ]
  },
  {
   "cell_type": "code",
   "execution_count": 17,
   "id": "7d9891d4",
   "metadata": {},
   "outputs": [],
   "source": [
    "df = df[['match_id', 'innings', 'batting_team', 'bowling_team', 'overs', 'ball', 'over', 'total_runs', 'player_dismissed']]"
   ]
  },
  {
   "cell_type": "code",
   "execution_count": 18,
   "id": "a9b2c732",
   "metadata": {},
   "outputs": [],
   "source": [
    "df = df.rename(columns= {'match_id': 'id'})"
   ]
  },
  {
   "cell_type": "code",
   "execution_count": 19,
   "id": "4e846fad",
   "metadata": {},
   "outputs": [],
   "source": [
    "df = df.replace(np.nan, 0)"
   ]
  },
  {
   "cell_type": "markdown",
   "id": "4c71bf24",
   "metadata": {},
   "source": [
    "### Total Runs scored in Innings"
   ]
  },
  {
   "cell_type": "code",
   "execution_count": 20,
   "id": "d7ab9fc6",
   "metadata": {},
   "outputs": [],
   "source": [
    "df['total'] = df.groupby(['id', 'innings'])['total_runs'].transform('sum')"
   ]
  },
  {
   "cell_type": "markdown",
   "id": "eaf9a25d",
   "metadata": {},
   "source": [
    "### Runs Scored till Current Ball"
   ]
  },
  {
   "cell_type": "code",
   "execution_count": 21,
   "id": "374fb1e5",
   "metadata": {},
   "outputs": [],
   "source": [
    "df['total_score'] = df.groupby(['id', 'innings'])['total_runs'].apply(lambda x:x.cumsum())"
   ]
  },
  {
   "cell_type": "markdown",
   "id": "14fc2efd",
   "metadata": {},
   "source": [
    "### Runs Scored in Previous 30 Balls"
   ]
  },
  {
   "cell_type": "code",
   "execution_count": 22,
   "id": "29d16b2d",
   "metadata": {},
   "outputs": [],
   "source": [
    "tmp = df.groupby(['id', 'innings'])['total_runs'].rolling(min_periods= 1, window= 30).sum().reset_index()"
   ]
  },
  {
   "cell_type": "code",
   "execution_count": 23,
   "id": "dcd8b654",
   "metadata": {},
   "outputs": [],
   "source": [
    "df['prev_30_runs'] = tmp['total_runs'].to_list()"
   ]
  },
  {
   "cell_type": "markdown",
   "id": "415cf515",
   "metadata": {},
   "source": [
    "### Wickets fallen in previous 30 Balls"
   ]
  },
  {
   "cell_type": "code",
   "execution_count": 24,
   "id": "a4788666",
   "metadata": {},
   "outputs": [],
   "source": [
    "df['player_dismissed'] = np.where(df['player_dismissed']== 0,0,1)"
   ]
  },
  {
   "cell_type": "code",
   "execution_count": 25,
   "id": "2d83bed0",
   "metadata": {},
   "outputs": [],
   "source": [
    "tmp = df.groupby(['id', 'innings'])['player_dismissed'].rolling(min_periods= 1, window= 30).sum().reset_index()\n",
    "\n",
    "df['prev_30_wickets'] = tmp['player_dismissed'].to_list()"
   ]
  },
  {
   "cell_type": "markdown",
   "id": "95263947",
   "metadata": {},
   "source": [
    "### Wickets fallen till Current Ball"
   ]
  },
  {
   "cell_type": "code",
   "execution_count": 26,
   "id": "9258f93c",
   "metadata": {},
   "outputs": [],
   "source": [
    "df['total_wickets'] = df.groupby(['id', 'innings'])['player_dismissed'].apply(lambda x:x.cumsum())"
   ]
  },
  {
   "cell_type": "markdown",
   "id": "ad6d5e82",
   "metadata": {},
   "source": [
    "### Dot Balls in previous 30 Balls"
   ]
  },
  {
   "cell_type": "code",
   "execution_count": 27,
   "id": "f3a21425",
   "metadata": {},
   "outputs": [],
   "source": [
    "df['prev_30_dot_balls'] = df['total_runs']\n",
    "df['prev_30_dot_balls'] = np.where(df['prev_30_dot_balls']== 0,1,0)\n",
    "\n",
    "tmp = df.groupby(['id', 'innings'])['prev_30_dot_balls'].rolling(min_periods= 1, window= 30).sum().reset_index()\n",
    "\n",
    "df['prev_30_dot_balls'] = tmp['prev_30_dot_balls'].to_list()"
   ]
  },
  {
   "cell_type": "markdown",
   "id": "403056e0",
   "metadata": {},
   "source": [
    "### Boundaries in previous 30 Balls"
   ]
  },
  {
   "cell_type": "code",
   "execution_count": 28,
   "id": "343150af",
   "metadata": {},
   "outputs": [],
   "source": [
    "df['prev_30_boundaries'] = df['total_runs']\n",
    "df['prev_30_boundaries'] = np.where(df['prev_30_boundaries']>3,1,0)\n",
    "\n",
    "tmp = df.groupby(['id', 'innings'])['prev_30_boundaries'].rolling(min_periods= 1, window= 30).sum().reset_index()\n",
    "\n",
    "df['prev_30_boundaries'] = tmp['prev_30_boundaries'].to_list()"
   ]
  },
  {
   "cell_type": "markdown",
   "id": "a897875a",
   "metadata": {},
   "source": [
    "### Run Rate till Current Ball"
   ]
  },
  {
   "cell_type": "code",
   "execution_count": 29,
   "id": "d9399228",
   "metadata": {},
   "outputs": [],
   "source": [
    "df['total_balls'] = df['over']*6+df['ball']"
   ]
  },
  {
   "cell_type": "code",
   "execution_count": 30,
   "id": "9bfee2b7",
   "metadata": {},
   "outputs": [],
   "source": [
    "df['run_rate'] = 6*(df['total_score'])/df['total_balls']"
   ]
  },
  {
   "cell_type": "markdown",
   "id": "b2d87cf8",
   "metadata": {},
   "source": [
    "### Run Rate in previous 30 Balls"
   ]
  },
  {
   "cell_type": "code",
   "execution_count": 31,
   "id": "43bf104e",
   "metadata": {},
   "outputs": [],
   "source": [
    "tmp = df.groupby(['id', 'innings'])['run_rate'].rolling(min_periods= 1, window= 30).sum().reset_index()\n",
    "df['prev_30_run_rate'] = tmp['run_rate'].to_list()"
   ]
  },
  {
   "cell_type": "code",
   "execution_count": 32,
   "id": "a3740165",
   "metadata": {},
   "outputs": [],
   "source": [
    "convert_dict = {'prev_30_runs': int,\n",
    "                'prev_30_wickets': int,\n",
    "                'prev_30_dot_balls': int,\n",
    "                'prev_30_boundaries': int,\n",
    "                'run_rate': int,\n",
    "                'prev_30_run_rate': int}\n",
    "\n",
    "df= df.astype(convert_dict)"
   ]
  },
  {
   "cell_type": "code",
   "execution_count": 33,
   "id": "a0ceb187",
   "metadata": {},
   "outputs": [],
   "source": [
    "df.to_csv('DATA_FEATURE.csv', index= None)"
   ]
  },
  {
   "cell_type": "markdown",
   "id": "0466b7f3",
   "metadata": {},
   "source": [
    "### ------------------------------------------------------------------------------------------------------------------------------------------------"
   ]
  },
  {
   "cell_type": "markdown",
   "id": "c9548a05",
   "metadata": {},
   "source": [
    "### Loading the Dataset"
   ]
  },
  {
   "cell_type": "code",
   "execution_count": 34,
   "id": "8f5b6e75",
   "metadata": {},
   "outputs": [],
   "source": [
    "df = pd.read_csv('DATA_FEATURE.csv')"
   ]
  },
  {
   "cell_type": "code",
   "execution_count": 35,
   "id": "93ddf0f2",
   "metadata": {},
   "outputs": [],
   "source": [
    "df = pd.get_dummies(data= df, columns= ['batting_team', 'bowling_team'])"
   ]
  },
  {
   "cell_type": "code",
   "execution_count": 36,
   "id": "bae3a6bc",
   "metadata": {},
   "outputs": [],
   "source": [
    "df=df[['id',  'batting_team_Australia', 'batting_team_Bangladesh', 'batting_team_England', 'batting_team_India', \n",
    "       'batting_team_New Zealand', 'batting_team_Pakistan', 'batting_team_South Africa', 'batting_team_Sri Lanka',\n",
    "       'batting_team_West Indies', 'bowling_team_Australia','bowling_team_Bangladesh', 'bowling_team_England',\n",
    "       'bowling_team_India','bowling_team_New Zealand', 'bowling_team_Pakistan', 'bowling_team_South Africa',\n",
    "       'bowling_team_Sri Lanka', 'bowling_team_West Indies', 'overs', 'total_score','total_wickets', 'run_rate', 'prev_30_runs',\n",
    "       'prev_30_wickets', 'prev_30_dot_balls','prev_30_boundaries', 'prev_30_run_rate','total']]"
   ]
  },
  {
   "cell_type": "markdown",
   "id": "a8c9c39e",
   "metadata": {},
   "source": [
    "### Train-Test Split"
   ]
  },
  {
   "cell_type": "code",
   "execution_count": 37,
   "id": "156c69ab",
   "metadata": {},
   "outputs": [],
   "source": [
    "X = df.drop(labels= ['total', 'id'], axis= 1)\n",
    "y = df['total'].values"
   ]
  },
  {
   "cell_type": "code",
   "execution_count": 38,
   "id": "1ebbf501",
   "metadata": {},
   "outputs": [],
   "source": [
    "X_train, X_test, y_train, y_test = train_test_split(X,y, test_size=0.25, random_state=42,stratify=y)"
   ]
  },
  {
   "cell_type": "code",
   "execution_count": 39,
   "id": "6b5238d2",
   "metadata": {},
   "outputs": [],
   "source": [
    "X_train= X_train.values\n",
    "X_test=X_test.values\n",
    "X_train=np.asarray(X_train).astype(np.float32)\n",
    "X_test=np.asarray(X_test).astype(np.float32)"
   ]
  },
  {
   "cell_type": "code",
   "execution_count": 40,
   "id": "0039dc0c",
   "metadata": {},
   "outputs": [
    {
     "name": "stdout",
     "output_type": "stream",
     "text": [
      "(228090, 27) (76030, 27) (228090,) (76030,)\n"
     ]
    }
   ],
   "source": [
    "print(X_train.shape, X_test.shape, y_train.shape, y_test.shape)"
   ]
  },
  {
   "cell_type": "markdown",
   "id": "242a6cb7",
   "metadata": {},
   "source": [
    "### Training Linear Regression Model"
   ]
  },
  {
   "cell_type": "code",
   "execution_count": 41,
   "id": "bd7a7be1",
   "metadata": {},
   "outputs": [
    {
     "data": {
      "text/plain": [
       "LinearRegression()"
      ]
     },
     "execution_count": 41,
     "metadata": {},
     "output_type": "execute_result"
    }
   ],
   "source": [
    "LR_model = LinearRegression()\n",
    "LR_model.fit(X_train,y_train)"
   ]
  },
  {
   "cell_type": "code",
   "execution_count": 42,
   "id": "935dca3c",
   "metadata": {},
   "outputs": [
    {
     "data": {
      "text/plain": [
       "18.972521109168945"
      ]
     },
     "execution_count": 42,
     "metadata": {},
     "output_type": "execute_result"
    }
   ],
   "source": [
    "from sklearn.metrics import mean_absolute_error\n",
    "pred = LR_model.predict(X_test)\n",
    "mean_absolute_error(y_test, pred)"
   ]
  },
  {
   "cell_type": "markdown",
   "id": "2132547b",
   "metadata": {},
   "source": [
    "### Training Ridge Model (with Alpha= 1)"
   ]
  },
  {
   "cell_type": "code",
   "execution_count": 43,
   "id": "2ae98298",
   "metadata": {},
   "outputs": [
    {
     "data": {
      "text/plain": [
       "Ridge(alpha=1, max_iter=500)"
      ]
     },
     "execution_count": 43,
     "metadata": {},
     "output_type": "execute_result"
    }
   ],
   "source": [
    "ridge = Ridge(alpha=1,max_iter=500)\n",
    "ridge.fit(X_train,y_train)"
   ]
  },
  {
   "cell_type": "code",
   "execution_count": 44,
   "id": "e35591d8",
   "metadata": {},
   "outputs": [
    {
     "data": {
      "text/plain": [
       "18.972508913376576"
      ]
     },
     "execution_count": 44,
     "metadata": {},
     "output_type": "execute_result"
    }
   ],
   "source": [
    "pr = ridge.predict(X_test)\n",
    "mean_absolute_error(y_test, pr)"
   ]
  },
  {
   "cell_type": "markdown",
   "id": "cc5597d6",
   "metadata": {},
   "source": [
    "### Training Ridge Model (with Alpha= 5)"
   ]
  },
  {
   "cell_type": "code",
   "execution_count": 45,
   "id": "d8249105",
   "metadata": {},
   "outputs": [
    {
     "data": {
      "text/plain": [
       "Ridge(alpha=5, max_iter=500)"
      ]
     },
     "execution_count": 45,
     "metadata": {},
     "output_type": "execute_result"
    }
   ],
   "source": [
    "ridge5 = Ridge(alpha=5,max_iter=500)\n",
    "ridge5.fit(X_train,y_train)"
   ]
  },
  {
   "cell_type": "code",
   "execution_count": 46,
   "id": "9bd021f2",
   "metadata": {},
   "outputs": [
    {
     "data": {
      "text/plain": [
       "18.9724787914673"
      ]
     },
     "execution_count": 46,
     "metadata": {},
     "output_type": "execute_result"
    }
   ],
   "source": [
    "prediction = ridge5.predict(X_test)\n",
    "mean_absolute_error(y_test, prediction)"
   ]
  },
  {
   "cell_type": "markdown",
   "id": "d178d1df",
   "metadata": {},
   "source": [
    "### Training Lasso Model"
   ]
  },
  {
   "cell_type": "code",
   "execution_count": 47,
   "id": "28bb621d",
   "metadata": {},
   "outputs": [
    {
     "data": {
      "text/plain": [
       "Lasso(alpha=0.01, max_iter=500)"
      ]
     },
     "execution_count": 47,
     "metadata": {},
     "output_type": "execute_result"
    }
   ],
   "source": [
    "lasso = Lasso(alpha=0.01,max_iter=500)\n",
    "lasso.fit(X_train,y_train)"
   ]
  },
  {
   "cell_type": "code",
   "execution_count": 48,
   "id": "1dbe7676",
   "metadata": {},
   "outputs": [
    {
     "data": {
      "text/plain": [
       "18.967863887720135"
      ]
     },
     "execution_count": 48,
     "metadata": {},
     "output_type": "execute_result"
    }
   ],
   "source": [
    "pd = lasso.predict(X_test)\n",
    "mean_absolute_error(y_test, pd)"
   ]
  },
  {
   "cell_type": "markdown",
   "id": "00b3522c",
   "metadata": {},
   "source": [
    "### Score Prediction"
   ]
  },
  {
   "cell_type": "code",
   "execution_count": 49,
   "id": "8e353605",
   "metadata": {},
   "outputs": [],
   "source": [
    "def score_prediction(Bat_team, Bowl_team, overs, total_score, total_wickets, run_rate, prev_runs_30, prev_wickets_30, prev_30_dot_balls, prev_30_boundaries, prev_30_run_rate):\n",
    "    \n",
    "    temp_array= list()\n",
    "    \n",
    "    if Bat_team == 'AUS':\n",
    "        temp_array = temp_array + [1,0,0,0,0,0,0,0,0]\n",
    "        \n",
    "    elif Bat_team == 'BAN':\n",
    "        temp_array = temp_array + [0,1,0,0,0,0,0,0,0]\n",
    "        \n",
    "    elif Bat_team == 'IND':\n",
    "        temp_array = temp_array + [0,0,1,0,0,0,0,0,0]\n",
    "        \n",
    "    elif Bat_team == 'ENG':\n",
    "        temp_array = temp_array + [0,0,0,1,0,0,0,0,0]\n",
    "        \n",
    "    elif Bat_team == 'NZ':\n",
    "        temp_array = temp_array + [0,0,0,0,1,0,0,0,0]\n",
    "        \n",
    "    elif Bat_team == 'SL':\n",
    "        temp_array = temp_array + [0,0,0,0,0,1,0,0,0]\n",
    "        \n",
    "    elif Bat_team == 'SA':\n",
    "        temp_array = temp_array + [0,0,0,0,0,0,1,0,0]\n",
    "        \n",
    "    elif Bat_team == 'WI':\n",
    "        temp_array = temp_array + [0,0,0,0,0,0,0,1,0]\n",
    "        \n",
    "    elif Bat_team == 'PAK':\n",
    "        temp_array = temp_array + [0,0,0,0,0,0,0,0,1]\n",
    "        \n",
    "    if Bowl_team == 'AUS':\n",
    "        temp_array = temp_array + [1,0,0,0,0,0,0,0,0]\n",
    "        \n",
    "    elif Bowl_team == 'BAN':\n",
    "        temp_array = temp_array + [0,1,0,0,0,0,0,0,0]\n",
    "        \n",
    "    elif Bowl_team == 'IND':\n",
    "        temp_array = temp_array + [0,0,1,0,0,0,0,0,0]\n",
    "        \n",
    "    elif Bowl_team == 'ENG':\n",
    "        temp_array = temp_array + [0,0,0,1,0,0,0,0,0]\n",
    "        \n",
    "    elif Bowl_team == 'NZ':\n",
    "        temp_array = temp_array + [0,0,0,0,1,0,0,0,0]\n",
    "        \n",
    "    elif Bowl_team == 'SL':\n",
    "        temp_array = temp_array + [0,0,0,0,0,1,0,0,0]\n",
    "        \n",
    "    elif Bowl_team == 'SA':\n",
    "        temp_array = temp_array + [0,0,0,0,0,0,1,0,0]\n",
    "        \n",
    "    elif Bowl_team == 'WI':\n",
    "        temp_array = temp_array + [0,0,0,0,0,0,0,1,0]\n",
    "        \n",
    "    elif Bowl_team == 'PAK':\n",
    "        temp_array = temp_array + [0,0,0,0,0,0,0,0,1]\n",
    "    \n",
    "    temp_array = temp_array + [overs, total_score, total_wickets, run_rate, prev_runs_30, prev_wickets_30, prev_30_dot_balls, prev_30_boundaries, prev_30_run_rate]\n",
    "    \n",
    "    data = np.array([temp_array])\n",
    "    \n",
    "    my_prediction = int(lasso.predict(data))\n",
    "    \n",
    "    print('Predicted Score: ', my_prediction)\n",
    "    print('Predicted Range: ', my_prediction - 20, 'to', my_prediction + 20)"
   ]
  },
  {
   "cell_type": "code",
   "execution_count": 50,
   "id": "face760f",
   "metadata": {},
   "outputs": [
    {
     "name": "stdout",
     "output_type": "stream",
     "text": [
      "Predicted Score:  239\n",
      "Predicted Range:  219 to 259\n"
     ]
    }
   ],
   "source": [
    "Bat_team = 'AUS'\n",
    "\n",
    "Bowl_team = 'IND'\n",
    "\n",
    "overs = 10.2\n",
    "\n",
    "total_score = 165\n",
    "\n",
    "total_wickets = 1\n",
    "\n",
    "run_rate = 10\n",
    "\n",
    "prev_runs_30 = 45\n",
    "\n",
    "prev_wickets_30 = 0\n",
    "\n",
    "prev_30_dot_balls = 4\n",
    "\n",
    "prev_30_boundaries = 10\n",
    "\n",
    "prev_30_run_rate = 9 \n",
    "\n",
    "score_prediction(Bat_team, Bowl_team, overs, total_score, total_wickets, run_rate, prev_runs_30, prev_wickets_30, prev_30_dot_balls, prev_30_boundaries, prev_30_run_rate)"
   ]
  },
  {
   "cell_type": "markdown",
   "id": "232c68d2",
   "metadata": {},
   "source": [
    "#### 1. From the above given condition the predicted Score came to 239 and the predicted Range came to 219 to 259.  \n",
    "#### 2.  I added the Run-Rate feature to the model with also building 2 extra models apart from Linear Regression and after comparison between these 3 models I used the Lasso model during the prediction process"
   ]
  },
  {
   "cell_type": "code",
   "execution_count": null,
   "id": "1f97df16",
   "metadata": {},
   "outputs": [],
   "source": []
  }
 ],
 "metadata": {
  "kernelspec": {
   "display_name": "Python 3 (ipykernel)",
   "language": "python",
   "name": "python3"
  },
  "language_info": {
   "codemirror_mode": {
    "name": "ipython",
    "version": 3
   },
   "file_extension": ".py",
   "mimetype": "text/x-python",
   "name": "python",
   "nbconvert_exporter": "python",
   "pygments_lexer": "ipython3",
   "version": "3.9.12"
  }
 },
 "nbformat": 4,
 "nbformat_minor": 5
}
